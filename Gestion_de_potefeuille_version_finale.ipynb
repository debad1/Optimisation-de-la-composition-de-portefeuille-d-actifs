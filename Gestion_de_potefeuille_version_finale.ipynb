{
  "cells": [
    {
      "cell_type": "markdown",
      "source": [
        "#<u>Titre du projet : Optimisation den la composition de portefeuille d'actifs</u>\n",
        "\n",
        "### <u>Membres du projet</u>:\n",
        "  1. **BADOLO** Christian Thomas : Implementaton du gradient projété et programmation fonctionnelle avec Scipy\n",
        "  2. **NIAMPA** Soumaïla : Modelisation mathématique et étude théorique\n",
        "  3. **SEBEOGO** Landry Yves Joël : Etude théorique et implementaton du gradient projété\n",
        "  4. **YEBOUA** Franck : Implementaton du gradient et discussion\n",
        "  5.**ZONGO** Sosthène : implémentation de l'agorithme d'uzawa et extration des données Yahoo finance"
      ],
      "metadata": {
        "id": "7vZzDnBL7mUp"
      }
    },
    {
      "cell_type": "markdown",
      "source": [
        "\n",
        "# <u>Formulation mathématique sous forme d'un problème d'optimisation bien posé</u>"
      ],
      "metadata": {
        "id": "wKty-gq1imOm"
      }
    },
    {
      "cell_type": "markdown",
      "metadata": {
        "id": "ai06lFiWPrNJ"
      },
      "source": [
        "\n",
        "* Considérons un investisseur qui souhaite allouer du capital parmi $N$ titres.\n",
        " Notons $p_i(0)$ le prix(connu) investi dans l’actif $i$ à $t=0$ et $p_i(r)$ le prix(aléatoire) investi dans l’actif $i$ à $t=r$\n",
        "\n",
        "* Modélisons par la variable aléatoire le taux $y_i$ de rendement du titre $i$ sur la période $r$ par $y_i = \\dfrac{pᵢ(r)}{pᵢ(0)}$\n",
        "\n",
        "* Notons $\\mu_i=  \\mathbb{E}[y_i] $ sa Valeur attendue. L'investisseur, ne voulant faire profil, cherche à maximiser le rendement de l'investissement tout en essayant de maintenir son risque à un niveau acceptable relativement bas.\n",
        "Notons $X$ le portefeuille où $x_i$ représente la proportion du capital allouer à l’actif $i$ à $t=0$ (fraction des fonds investis dans le titre $i$).\n",
        "Nous pouvons donc exprimer le rendement aléatoire du portefeuille par \\begin{align*}\n",
        "R &=\\sum_{i=1}^N x_iy_i=X^TY \\\\\n",
        "\\end{align*}\n",
        "\n",
        "* Le rendement attendu du portefeuille $\\mu_X =\\mathbb{E}[R] = X^T\\mathbb{E}[Y] = X^T\\mu$.\n",
        "* La variance du portefeuille $\\sigma²_X =\\mathbb{Var}[R]= \\mathbb{Var}[X^TR]= X^T\\Omega X$.\n"
      ]
    },
    {
      "cell_type": "markdown",
      "source": [
        "* Problème d'optimisation\n",
        "\n",
        "  L'investisseur a pour objectif de maximiser son rendrment $\\mathbb{E}[R]$ tout en maintenant $\\sigma²_X $ à un seuil acceptable.\n",
        "\n",
        "$$\n",
        "\\max_{X\\in\\mathbb{R}^N} X^T {\\mu}\\quad \\text{sous}\\quad X^T \\Omega X \\leq \\sigma^2\n",
        "$$\n",
        "* Problème sous forme standard\n",
        "$$\n",
        "\\min_{X\\in\\mathbb{R}^N} -X^T {\\mu}\\quad \\text{sous}\\quad X^T \\Omega X \\leq \\sigma^2\n",
        "$$\n",
        "\n",
        "**La fonction coût définie de l'ensemble $\\mathbb{R}^N$ vers $\\mathbb{R}$ est $J_0(X) = -X^T{\\mu}\\quad$ et\n",
        "l'ensemble des contraintes est $J_1(X) = X^TΩX - \\sigma^2 \\leq 0$, qui représente la contrainte de risque.**\n",
        "\n",
        "L'on ajoute également les contraintes $\\sum_{i} X_i = 1 \\quad \\text{et} \\quad X_i \\geq 0$\n"
      ],
      "metadata": {
        "id": "gle8TFPR8xjJ"
      }
    },
    {
      "cell_type": "markdown",
      "source": [
        "# <u>Analyse mathématique du problème d'optimisation </u>"
      ],
      "metadata": {
        "id": "pW4aPUKViZN0"
      }
    },
    {
      "cell_type": "markdown",
      "source": [
        "## <u>Existence et unicité</u>\n",
        "\n",
        "* $J_0(X) = -X^T{\\mu}\\quad$ est linéaire donc convexe.\n",
        "* L'ensemble $K = \\{X \\in \\mathbb{R}^N \\mid X^T\\Omega X - \\sigma^2 \\leq 0\\}$  est compact\n",
        "* $J_0$ est continue donc admet un minimun. De plus, $K$ et $J_0$ étant convexes l'unicité du minimum est assuré\n",
        "\n",
        "## <u>Caractértisation du minimum</u>\n",
        "\n",
        "A partir des conditions d'optimalité du lagrangien associé au problème on arrive à écire les conditions dites de **karush-Kuhn-Tucker**.\n",
        "* $-{\\mu} + 2λΩ\\bar{X} = 0$\n",
        "* $\\bar{λ}\\geq 0$\n",
        "* $\\bar{X}^T\\Omega\\bar{X} - \\sigma^2 \\leq 0$\n",
        "* $\\bar{λ}(\\bar{X}^TΩ\\bar{X} - σ^2) = 0$\n",
        "\n",
        "## <u>Sélection d'un algorithme de résolution</u>\n",
        "\n",
        "\n",
        "Le problème d'optimisation étant sous contraintes, l'on a le choix entre la méthode du gradient projété et l'algorithme d'Uzawa.\n",
        "\n",
        "###Gradient projété\n",
        "\n",
        "**1. Initialisation:** $k=0:$ choix de $x_0$ et de $\\rho_0>0$\n",
        "\n",
        "**2. Iteration:**   $x_{k+1}=\\pi_K\\left(x_k-\\rho_k \\nabla J\\left(x_k\\right)\\right)$;\n",
        "\n",
        "**3. Critère d'arrêt:** Si $\\left\\|x_{k+1}-x_k\\right\\|<\\varepsilon$, STOP\n",
        "\n",
        "La projection $\\pi_K$a  été déterminée par la resolution du problème $min \\dfrac{1}{2}||x-y||^2$ avec $x \\in K$ et $y \\in R^N$\n",
        "\n",
        "###Algorithme d'uzawa\n",
        "\n",
        "On le défini comme suit:\n",
        "\n",
        "**1. Initialisation**:  $k = 0$, choisir $\\lambda^{(0)} \\in \\mathbb{R}^p$ et $\\mu^{(0)} \\in \\mathbb{R}^q_+$\n",
        "\n",
        "Tant que le critère d'arrêt n'est pas satisfait:\n",
        "\n",
        "**2. Calculer** $x^{(k)} \\in \\mathbb{R}^n$ solution de $\\min_{x \\in \\mathbb{R}^n} L(x, \\lambda^{(k)}, \\mu^{(k)})$\n",
        "\n",
        "**3. Calculer** $\\lambda^{(k+1)}$ et $\\mu^{(k+1)}$:\n",
        "\n",
        "\\begin{cases}\n",
        "\\lambda^{(k+1)}_i = \\lambda^{(k)}_i + \\rho h_i(x^{(k)}), & i = 1, \\ldots, p \\\\\n",
        "\\mu^{(k+1)}_j = \\max\\{0, \\mu^{(k)}_j + \\rho g_j(x^{(k)})\\}, & j = 1, \\ldots, q\n",
        "\\end{cases}\n",
        "\n",
        "\n",
        "\n"
      ],
      "metadata": {
        "id": "d1stCxzP__QZ"
      }
    },
    {
      "cell_type": "markdown",
      "source": [
        "* Convergence"
      ],
      "metadata": {
        "id": "NIDD9yHlnfoR"
      }
    },
    {
      "cell_type": "markdown",
      "source": [
        "* Vitesse de convergence"
      ],
      "metadata": {
        "id": "MxAoovLjnlEM"
      }
    },
    {
      "cell_type": "markdown",
      "metadata": {
        "id": "adzl3hc15JMg"
      },
      "source": [
        "# Extration des Données sur Yahoo Finance"
      ]
    },
    {
      "cell_type": "code",
      "execution_count": null,
      "metadata": {
        "id": "VDYlKQHFdQ9g"
      },
      "outputs": [],
      "source": [
        "import time\n",
        "import numpy as np\n",
        "import pandas as pd\n",
        "import yfinance as yf\n",
        "from scipy.optimize import minimize\n",
        "from numpy.linalg import norm"
      ]
    },
    {
      "cell_type": "code",
      "execution_count": null,
      "metadata": {
        "id": "quf9cXWro1RM",
        "colab": {
          "base_uri": "https://localhost:8080/"
        },
        "outputId": "3dd694bf-6aaa-467c-92d3-afcb787b5894"
      },
      "outputs": [
        {
          "output_type": "stream",
          "name": "stdout",
          "text": [
            "[236.76465747 111.83336309 118.78089602 186.6723016  155.34749827\n",
            "  81.51569888  36.71476717]\n",
            "[[3913.9413354   738.5027041  1284.79747823 1435.90537105  436.68753615\n",
            "   302.95845541  440.73616178]\n",
            " [ 738.5027041   235.58416028  321.02530988  604.71956704  150.489609\n",
            "   103.72852804  105.93674207]\n",
            " [1284.79747823  321.02530988  522.85398767  699.87678128  201.78155264\n",
            "   139.47774177  169.71879369]\n",
            " [1435.90537105  604.71956704  699.87678128 2784.16951733  544.68519332\n",
            "   357.50118375  282.95577504]\n",
            " [ 436.68753615  150.489609    201.78155264  544.68519332  187.15821202\n",
            "   103.81280843   65.893672  ]\n",
            " [ 302.95845541  103.72852804  139.47774177  357.50118375  103.81280843\n",
            "    81.05521579   41.4744002 ]\n",
            " [ 440.73616178  105.93674207  169.71879369  282.95577504   65.893672\n",
            "    41.4744002    83.30150443]]\n"
          ]
        }
      ],
      "source": [
        "def data(code_tickers):\n",
        "    # Récupération des données des tickers à l'aide de l'API de Yahoo Finance\n",
        "    data_frames, n_days_back = [], 365\n",
        "    for code in code_tickers:\n",
        "        stock = yf.Ticker(code)\n",
        "        df = stock.history(period=f\"{n_days_back}d\")\n",
        "        df = df.reset_index()\n",
        "        df = df[[\"Date\", \"Close\"]]\n",
        "        df.columns = [\"Date\", code]\n",
        "        data_frames.append(df)\n",
        "\n",
        "    market_data_frame = data_frames[0]\n",
        "    for df in data_frames[1:]:\n",
        "        market_data_frame = pd.merge(market_data_frame, df, on=\"Date\", how=\"outer\")\n",
        "\n",
        "    market_data_frame = market_data_frame.set_index(\"Date\")\n",
        "    return market_data_frame\n",
        "\n",
        "code_tickers = [\"TSLA\", \"GOOG\",\"AMZN\",\"META\",\"AAPL\",\"TNET\",\"BRZE\"]\n",
        "market_data_frame = data(code_tickers) #Table contenant les données de tesla, amazon, meta, netflix, apple, aurora et trinet\n",
        "\n",
        "mu = np.array(market_data_frame .mean()) #calcul de la moyenne mu\n",
        "omega = np.array(market_data_frame .cov()) #calcul de la covariance\n",
        "\n",
        "print(mu)\n",
        "print(omega)\n",
        "#print(market_data_frame. cov())"
      ]
    },
    {
      "cell_type": "markdown",
      "metadata": {
        "id": "rUVk32zd44N5"
      },
      "source": [
        "# Resolution avec scipy"
      ]
    },
    {
      "cell_type": "code",
      "execution_count": null,
      "metadata": {
        "colab": {
          "base_uri": "https://localhost:8080/"
        },
        "id": "r4XNtYVxAWnp",
        "outputId": "76690861-2947-4b6f-828c-d9e5020a306f"
      },
      "outputs": [
        {
          "output_type": "stream",
          "name": "stdout",
          "text": [
            "Proportions optimales : [9.50006416e-12 2.84932056e-14 5.76545445e-14 1.50044900e-11\n",
            " 2.80437847e-12 5.15497625e-01 4.84502996e-01]\n",
            "Valeur du portefeuille:  59.80956388333877\n"
          ]
        }
      ],
      "source": [
        "def objective(x,mu):\n",
        "    return -mu @ x  # Minimiser le négatif du rendement attendu\n",
        "\n",
        "def optimize_portfolio(alpha):\n",
        "    contraintes= ({'type': 'eq', 'fun': lambda x: sum(x) - 1},{'type': 'ineq', 'fun': lambda x: alpha**2 - x @ omega @ x})\n",
        "    bounds = [(0, None)] * len(mu)  # Proportions positives\n",
        "    x0 = np.ones(len(mu)) / len(mu) # Répartition initiale égale\n",
        "    result = minimize(objective, x0, args = (mu,), method = 'SLSQP', bounds = bounds, constraints = contraintes) #resolution du problème d'optimisation\n",
        "    return  result.x\n",
        "\n",
        "alpha = 0.01  # Exemple de niveau de risque acceptable\n",
        "debut = time.time()\n",
        "proportions_scipy = optimize_portfolio(alpha)\n",
        "fin= time.time()\n",
        "t1 = fin - debut\n",
        "print(\"Proportions optimales :\", proportions_scipy)"
      ]
    },
    {
      "cell_type": "markdown",
      "metadata": {
        "id": "Jf2dV5omFqcM"
      },
      "source": [
        "# Gradient projété"
      ]
    },
    {
      "cell_type": "code",
      "source": [
        "#Definition de la projection\n",
        "def J(x,y):\n",
        "    return 0.5*norm(x - y)**2\n",
        "\n",
        "def projection(y, omega, alpha):\n",
        "    contraintes= ({'type': 'eq', 'fun': lambda x: sum(x) - 1},{'type': 'ineq', 'fun': lambda x: alpha**2 - x@omega@x})\n",
        "    bounds = [(0, None)] * len(mu)  # Proportions positives\n",
        "    x0 = np.ones(len(mu)) / len(mu) # Répartition initiale égale\n",
        "    result = minimize(J, x0,args = (y,), method = 'SLSQP', bounds = bounds, constraints =  contraintes) #resolution du problème d'optimisation\n",
        "    return  result.x"
      ],
      "metadata": {
        "id": "Z7K5saMQGpH9"
      },
      "execution_count": null,
      "outputs": []
    },
    {
      "cell_type": "code",
      "execution_count": null,
      "metadata": {
        "id": "AogYdcLHDV6l",
        "colab": {
          "base_uri": "https://localhost:8080/"
        },
        "outputId": "4d77fd30-e1a7-4047-8fe0-b8f874f6a004"
      },
      "outputs": [
        {
          "output_type": "stream",
          "name": "stdout",
          "text": [
            "[7.88027660e-14 0.00000000e+00 7.29425893e-12 0.00000000e+00\n",
            " 0.00000000e+00 5.14268027e-01 4.86298911e-01]\n"
          ]
        }
      ],
      "source": [
        "# Test projection sur K\n",
        "y_0 = np.ones(len(mu))\n",
        "#y_0 = np.array([237.06259348, 118.89525767])\n",
        "y = projection(y_0, omega, 0.02)\n",
        "print(y)"
      ]
    },
    {
      "cell_type": "code",
      "execution_count": null,
      "metadata": {
        "id": "O4Ps1UBzAM7J"
      },
      "outputs": [],
      "source": [
        "# Définiton de la fonction objective et son gradient analytique\n",
        "def J0(mu,x):\n",
        "    return np.dot(-x,mu)\n",
        "def GradJ0(mu,x):\n",
        "    return -mu"
      ]
    },
    {
      "cell_type": "code",
      "execution_count": null,
      "metadata": {
        "colab": {
          "base_uri": "https://localhost:8080/"
        },
        "id": "h2J4uDsHroGh",
        "outputId": "0355fbd3-cc52-40bb-f5ca-5b374c438006"
      },
      "outputs": [
        {
          "output_type": "stream",
          "name": "stdout",
          "text": [
            "J0 = -44\n",
            "GradJ0 = [-2 -7 -3 -9]\n"
          ]
        }
      ],
      "source": [
        "#Test fonction coût et son gradient\n",
        "x = np.array([2, 1, 5, 2])\n",
        "m = np.array([2, 7, 3, 9])\n",
        "print(\"J0 =\",J0(m,x))\n",
        "print(\"GradJ0 =\",GradJ0(m,x))"
      ]
    },
    {
      "cell_type": "code",
      "execution_count": null,
      "metadata": {
        "id": "OP58y_ay5VvG"
      },
      "outputs": [],
      "source": [
        "def gradientProjete (mu,omega,x0 ,alpha ,pas=1e-8, tol=1e-6) :\n",
        "    xk  = x0\n",
        "    iter = 0\n",
        "    err = 1\n",
        "    while err > tol:\n",
        "      x_old = np.copy(xk)\n",
        "      xk = projection(xk - np.dot(pas, GradJ0(mu,xk)), omega, alpha)\n",
        "      err = norm(x_old - xk)\n",
        "      iter += 1\n",
        "    return xk\n",
        "alpha = 0.01\n",
        "x0 = np.ones(len(mu)) / len(mu) # Répartition initiale égale\n",
        "debut = time.time()\n",
        "proportions_gradientProjete = gradientProjete (mu, omega, x0 ,alpha)\n",
        "fin= time.time()\n",
        "t2 = fin - debut"
      ]
    },
    {
      "cell_type": "code",
      "source": [
        "print(\"Proportions optimales\",proportions_gradientProjete)"
      ],
      "metadata": {
        "colab": {
          "base_uri": "https://localhost:8080/"
        },
        "id": "GfDPWrhTa7EJ",
        "outputId": "cabdb968-198a-4e46-8701-e80c750f308a"
      },
      "execution_count": null,
      "outputs": [
        {
          "output_type": "stream",
          "name": "stdout",
          "text": [
            "Proportions optimales [1.66901241e-21 3.29469001e-20 1.88784719e-18 3.79895975e-22\n",
            " 3.71990649e-22 5.13796496e-01 4.86203504e-01]\n",
            "Valeur du portefeuille:  59.73332890104629\n"
          ]
        }
      ]
    },
    {
      "cell_type": "markdown",
      "metadata": {
        "id": "bnWzy5sFriiD"
      },
      "source": [
        "# Algorithme d'Uzawa"
      ]
    },
    {
      "cell_type": "code",
      "execution_count": null,
      "metadata": {
        "id": "wtn0gl83oHh7",
        "colab": {
          "base_uri": "https://localhost:8080/"
        },
        "outputId": "b6b8ec3e-26d2-42a5-e527-7cdc7e08a06a"
      },
      "outputs": [
        {
          "output_type": "stream",
          "name": "stdout",
          "text": [
            "Proportions optimales [0.         0.         0.         0.         0.41500313 0.\n",
            " 0.        ]\n",
            "Valeur du portefeuille:  64.46969781738812\n"
          ]
        }
      ],
      "source": [
        "# Fonction g(x_k)\n",
        "def g(x_k, omega, alpha):\n",
        "    return  x_k @ omega @ x_k - alpha**2\n",
        "\n",
        "# Fonction f(x_k)\n",
        "def h(x_k):\n",
        "    return np.sum(x_k) - 1\n",
        "\n",
        "def uzawa_algorithm(alpha, omega,lamba_k=0, beta_k=1, rho=1e-6, epsilon=1e-4):\n",
        "    lambda_k, beta_k =  0, 1\n",
        "    iter = 1\n",
        "    err = 1\n",
        "    bounds = [(0, None)] * len(mu)\n",
        "    x0 = np.ones(len(mu)) / len(mu)\n",
        "    while err > epsilon:\n",
        "        x_old = x0\n",
        "        objective = lambda x : -mu @ x+ lambda_k*h(x) + beta_k*g(x, omega, alpha)\n",
        "        result =  minimize(objective, x0, bounds = bounds)\n",
        "        x_k = result.x\n",
        "        beta_k= max(0, beta_k + rho * g(x_k, omega, alpha))\n",
        "        lambda_k = lambda_k  + rho * h(x_k)\n",
        "        err = norm(x_k - x_old)\n",
        "        x0 = x_k\n",
        "        iter += 1\n",
        "    return x_k\n",
        "\n",
        "alpha = 0.01\n",
        "debut = time.time()\n",
        "proportions_Uzawa = uzawa_algorithm(alpha,omega)\n",
        "fin= time.time()\n",
        "t3 = fin - debut\n",
        "print(\"Proportions optimales\",proportions_Uzawa)"
      ]
    },
    {
      "cell_type": "markdown",
      "source": [
        "# Discution et interpretation"
      ],
      "metadata": {
        "id": "QNozppATppH_"
      }
    },
    {
      "cell_type": "code",
      "source": [
        "print(\"Valeur du portefeuille scipy: \", mu @ proportions_scipy)\n",
        "print(\"Valeur du portefeuille gradient projété: \", mu @ proportions_gradientProjete)\n",
        "print(\"Valeur du portefeuille Uzawa: \", mu @ proportions_Uzawa)"
      ],
      "metadata": {
        "colab": {
          "base_uri": "https://localhost:8080/"
        },
        "id": "qHY8k0o6qX8x",
        "outputId": "9c7c5f9e-28c5-430f-bc34-6ed9a11b7c40"
      },
      "execution_count": null,
      "outputs": [
        {
          "output_type": "stream",
          "name": "stdout",
          "text": [
            "Valeur du portefeuille scipy:  59.80956388333877\n",
            "Valeur du portefeuille gradient projété:  59.73332890104629\n",
            "Valeur du portefeuille Uzawa:  64.46969781738812\n"
          ]
        }
      ]
    },
    {
      "cell_type": "code",
      "source": [
        "print(\"Temps d'exécution de resolution avec scipy :\", t1)\n",
        "print(\"Temps d'exécution du gradient projété :\", t2)\n",
        "print(\"Temps d'exécution de l'algorithme d'Uzawa :\", t3)"
      ],
      "metadata": {
        "colab": {
          "base_uri": "https://localhost:8080/"
        },
        "id": "VoW4qjf_oOuz",
        "outputId": "22d75ae6-2ecc-4de8-9bd4-4b22144e59ae"
      },
      "execution_count": null,
      "outputs": [
        {
          "output_type": "stream",
          "name": "stdout",
          "text": [
            "Temps d'exécution de resolution avec scipy : 0.28118038177490234\n",
            "Temps d'exécution du gradient projété : 0.33217716217041016\n",
            "Temps d'exécution de l'algorithme d'Uzawa : 0.05890512466430664\n"
          ]
        }
      ]
    },
    {
      "cell_type": "markdown",
      "source": [
        "En comparant ces différents résultats, on observe que **l'algorithme d'Uzawa** a produit la meilleure valeur du portefeuille, tandis que l'algorithme du gradient projeté a donné la valeur la plus basse. En termes de temps d'exécution, l'algorithme d'Uzawa est nettement plus rapide que les deux autres méthodes.\n",
        "\n",
        "Ces résultats soulignent l'importance de choisir l'algorithme approprié en fonction des objectifs spécifiques."
      ],
      "metadata": {
        "id": "gJAsBZWup8cV"
      }
    }
  ],
  "metadata": {
    "colab": {
      "provenance": []
    },
    "kernelspec": {
      "display_name": "Python 3",
      "name": "python3"
    },
    "language_info": {
      "name": "python"
    }
  },
  "nbformat": 4,
  "nbformat_minor": 0
}